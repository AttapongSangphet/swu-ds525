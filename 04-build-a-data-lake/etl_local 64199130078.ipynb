{
 "cells": [
  {
   "cell_type": "markdown",
   "id": "893b937a-206a-4738-9b10-f45bc1216923",
   "metadata": {},
   "source": [
    "# ETL with Spark (Local)"
   ]
  },
  {
   "cell_type": "code",
   "execution_count": 1,
   "id": "22df453c",
   "metadata": {},
   "outputs": [],
   "source": [
    "from pyspark.sql import SparkSession\n",
    "# from pyspark.sql.types import StructType, StructField, DoubleType, StringType, IntegerType, DateType, TimestampType\n",
    "\n",
    "# import pyspark.sql.functions as F\n",
    "import pandas as pd\n",
    "import glob"
   ]
  },
  {
   "cell_type": "code",
   "execution_count": 72,
   "id": "43fde3d9-e1ce-49dc-b8df-41b6daf82342",
   "metadata": {},
   "outputs": [],
   "source": [
    "data = \"github_events_01.json\"\n",
    "data_2 = \"github_events_02.json\""
   ]
  },
  {
   "cell_type": "code",
   "execution_count": 75,
   "id": "f1e6c116-0c9c-45dc-9767-09a5682daaa6",
   "metadata": {},
   "outputs": [],
   "source": [
    "spark = SparkSession.builder \\\n",
    "    .appName(\"ETL\") \\\n",
    "    .getOrCreate()"
   ]
  },
  {
   "cell_type": "code",
   "execution_count": null,
   "id": "92a7e6c1-cfa8-46f4-956b-4b1159ccf43c",
   "metadata": {},
   "outputs": [
    {
     "data": {
      "text/plain": [
       "['data/github_events_01.json', 'data/github_events_02.json']"
      ]
     },
     "execution_count": 77,
     "metadata": {},
     "output_type": "execute_result"
    }
   ],
   "source": [
    "data_folder = \"data\""
   ]
  },
  {
   "cell_type": "code",
   "execution_count": null,
   "id": "13107651",
   "metadata": {},
   "outputs": [],
   "source": [
    "data = spark.read.option(\"multiline\", \"true\").json(data_folder)"
   ]
  },
  {
   "cell_type": "code",
   "execution_count": null,
   "id": "1dd132ba",
   "metadata": {},
   "outputs": [],
   "source": [
    "data.show()"
   ]
  },
  {
   "cell_type": "code",
   "execution_count": null,
   "id": "65dc7ea7",
   "metadata": {},
   "outputs": [],
   "source": [
    "data.printSchema()"
   ]
  },
  {
   "cell_type": "code",
   "execution_count": null,
   "id": "28bd1720",
   "metadata": {},
   "outputs": [],
   "source": [
    "data.select(\"id\", \"type\").show()"
   ]
  },
  {
   "cell_type": "code",
   "execution_count": null,
   "id": "8b2263a7",
   "metadata": {},
   "outputs": [],
   "source": [
    "data.createOrReplaceTempView(\"staging_events\")"
   ]
  },
  {
   "cell_type": "code",
   "execution_count": null,
   "id": "9337c752",
   "metadata": {},
   "outputs": [],
   "source": [
    "table = spark.sql(\"\"\"\n",
    "    select\n",
    "        *\n",
    "        \n",
    "    from\n",
    "        staging_events\n",
    "\"\"\").show(1)"
   ]
  },
  {
   "cell_type": "code",
   "execution_count": null,
   "id": "784acfd3",
   "metadata": {},
   "outputs": [],
   "source": [
    "actors_output_csv = \"../actors/output_csv\"\n",
    "actors_output_parquet = \"../actors/output_parquet\"\n",
    "\n",
    "table_actors = spark.sql(\"\"\"\n",
    "    select\n",
    "        actor.id\n",
    "        , actor.login \n",
    "        , actor.display_login \n",
    "        , actor.gravatar_id \n",
    "        , actor.url \n",
    "        , actor.avatar_url\n",
    "        , type as type\n",
    "    \n",
    "    from\n",
    "        staging_events\n",
    "\"\"\")\n",
    "\n",
    "table_actors.show(5)"
   ]
  },
  {
   "cell_type": "code",
   "execution_count": null,
   "id": "9868ac0f",
   "metadata": {},
   "outputs": [],
   "source": [
    "table_actors.write.partitionBy(\"type\").mode(\"overwrite\").csv(actors_output_csv)\n",
    "table_actors.write.partitionBy(\"type\").mode(\"overwrite\").csv(actors_output_parquet)"
   ]
  },
  {
   "cell_type": "code",
   "execution_count": null,
   "id": "fddbbfed",
   "metadata": {},
   "outputs": [],
   "source": [
    "orgs_output_csv = \"../orgs/output_csv\"\n",
    "orgs_output_parquet = \"../orgs/output_parquet\"\n",
    "\n",
    "table_orgs = spark.sql(\"\"\"\n",
    "    select\n",
    "        org.id\n",
    "        , org.login\n",
    "        , org.gravatar_id \n",
    "        , org.url \n",
    "        , org.avatar_url \n",
    "        , type as type\n",
    "    \n",
    "    from\n",
    "        staging_events\n",
    "\"\"\")\n",
    "\n",
    "table_orgs.show(5)"
   ]
  },
  {
   "cell_type": "code",
   "execution_count": null,
   "id": "01159da6",
   "metadata": {},
   "outputs": [],
   "source": [
    "table_orgs.write.partitionBy(\"type\").mode(\"overwrite\").csv(orgs_output_csv)\n",
    "table_orgs.write.partitionBy(\"type\").mode(\"overwrite\").csv(orgs_output_parquet)"
   ]
  },
  {
   "cell_type": "code",
   "execution_count": null,
   "id": "7361255b",
   "metadata": {},
   "outputs": [],
   "source": [
    "repos_output_csv = \"../repos/output_csv\"\n",
    "repos_output_parquet = \"../repos/output_parquet\"\n",
    "\n",
    "table_repos = spark.sql(\"\"\"\n",
    "    select\n",
    "        repo.id\n",
    "        , repo.name\n",
    "        , repo.url\n",
    "        , type as type\n",
    "    \n",
    "    from\n",
    "        staging_events\n",
    "\"\"\")\n",
    "\n",
    "table_repos.show(5)"
   ]
  },
  {
   "cell_type": "code",
   "execution_count": null,
   "id": "a38d387b",
   "metadata": {},
   "outputs": [],
   "source": [
    "table_repos.write.partitionBy(\"type\").mode(\"overwrite\").csv(repos_output_csv)\n",
    "table_repos.write.partitionBy(\"type\").mode(\"overwrite\").csv(repos_output_parquet)"
   ]
  },
  {
   "cell_type": "code",
   "execution_count": null,
   "id": "10c32af9",
   "metadata": {},
   "outputs": [],
   "source": [
    "events_output_csv = \"../events/output_csv\"\n",
    "events_output_parquet = \"../events/output_parquet\"\n",
    "\n",
    "table_events = spark.sql(\"\"\"\n",
    "    select\n",
    "        id\n",
    "        , repo.id as repo_id\n",
    "        , org.id as org_id\n",
    "        , actor.id as actor_id \n",
    "        , type as type\n",
    "        , public\n",
    "        , timestamp(created_at) as datetime\n",
    "\n",
    "    from\n",
    "        staging_events\n",
    "\"\"\")\n",
    "\n",
    "table_events.show(5)"
   ]
  },
  {
   "cell_type": "code",
   "execution_count": null,
   "id": "17df3dbe",
   "metadata": {},
   "outputs": [],
   "source": [
    "table_events.write.partitionBy(\"type\").mode(\"overwrite\").csv(events_output_csv)\n",
    "table_events.write.partitionBy(\"type\").mode(\"overwrite\").csv(events_output_parquet)"
   ]
  },
  {
   "cell_type": "code",
   "execution_count": null,
   "id": "1652d6ec",
   "metadata": {},
   "outputs": [],
   "source": [
    "table_actors.createOrReplaceTempView(\"actors\")\n",
    "table_orgs.createOrReplaceTempView(\"orgs\")\n",
    "table_repos.createOrReplaceTempView(\"repos\")\n",
    "table_events.createOrReplaceTempView(\"events\")"
   ]
  },
  {
   "cell_type": "code",
   "execution_count": null,
   "id": "3d8cf59c",
   "metadata": {},
   "outputs": [],
   "source": [
    "df = spark.sql(\"\"\"\n",
    "    select\n",
    "        events.type\n",
    "        , datetime\n",
    "        , actors.id as \n",
    "        \n",
    "    from events\n",
    "    join actors\n",
    "    on\n",
    "        actors.type  = events.type and actors.id  = events.actor_id \n",
    "    where events.type = 'CreateEvent'\n",
    "\"\"\")\n",
    "\n",
    "df.show()"
   ]
  }
 ],
 "metadata": {
  "kernelspec": {
   "display_name": "Python 3 (ipykernel)",
   "language": "python",
   "name": "python3"
  },
  "language_info": {
   "codemirror_mode": {
    "name": "ipython",
    "version": 3
   },
   "file_extension": ".py",
   "mimetype": "text/x-python",
   "name": "python",
   "nbconvert_exporter": "python",
   "pygments_lexer": "ipython3",
   "version": "3.10.6"
  }
 },
 "nbformat": 4,
 "nbformat_minor": 5
}
