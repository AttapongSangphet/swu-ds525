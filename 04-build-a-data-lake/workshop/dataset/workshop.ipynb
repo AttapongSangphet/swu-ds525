{
 "cells": [
  {
   "cell_type": "markdown",
   "id": "e134d351-6667-4bba-9a9e-e89970c40cfb",
   "metadata": {},
   "source": [
    "# Breakfast at the Frat: A Time Series Analysis\n",
    "\n",
    "Sales and promotion information on the top five products from each of the top three brands within four selected categories (mouthwash, pretzels, frozen pizza, and boxed cereal), gathered from a sample of stores over 156 weeks.\n",
    "\n",
    "- Unit sales, households, visits, and spend data by product, store, and week\n",
    "- Base Price and Actual Shelf Price, to determine a product’s discount, if any\n",
    "- Promotional support details (e.g., sale tag, in-store display), if applicable for the given product/store/week\n",
    "- Store information, including size and location, as well as a price tier designation (e.g., upscale vs. value)\n",
    "- Product information, including UPC, size, and description\n",
    "\n",
    "To identify outliers, it is suggested to look at\n",
    "\n",
    "- The ratio of units vs. number of visits\n",
    "- The ratio of visits vs. number of households\n",
    "- Some items that may be out-of-stock or discontinued for a store\n",
    "\n",
    "**Source:** https://www.dunnhumby.com/source-files/"
   ]
  },
  {
   "cell_type": "code",
   "execution_count": null,
   "id": "b796ca6e-ac95-406d-91fe-1383419620d1",
   "metadata": {},
   "outputs": [],
   "source": [
    "from pyspark.sql import Row, SparkSession"
   ]
  },
  {
   "cell_type": "code",
   "execution_count": null,
   "id": "268e7e7b-7431-43c0-9b6f-1d50e758b00e",
   "metadata": {},
   "outputs": [],
   "source": [
    "spark = SparkSession.builder \\\n",
    "    .appName(\"breakfast\") \\\n",
    "    .getOrCreate()"
   ]
  },
  {
   "cell_type": "code",
   "execution_count": null,
   "id": "d66c43ba-edd2-486b-92b4-8a8b1ae3bd7e",
   "metadata": {},
   "outputs": [],
   "source": [
    "product_data_folder = \"dataset/products\"\n",
    "store_data_folder = \"dataset/stores\"\n",
    "transaction_data_folder = \"dataset/transactions\""
   ]
  },
  {
   "cell_type": "markdown",
   "id": "14f9105f-ff68-4a3e-a3a6-3f71fef1ce0b",
   "metadata": {},
   "source": [
    "### Perform ETL to Answer the Following Questions\n",
    "\n",
    "1. What is the range of prices offered on products?\n",
    "1. What is the impact on units/visit of promotions by geographies?\n",
    "1. Which products would you lower the price to increase sales?"
   ]
  },
  {
   "cell_type": "code",
   "execution_count": null,
   "id": "a5318f01-6ecc-4222-87d1-1198958f8e5e",
   "metadata": {},
   "outputs": [],
   "source": [
    "product_df = spark \\\n",
    "    .read \\\n",
    "    .option(\"header\", True) \\\n",
    "    .csv(product_data_folder).show(3)"
   ]
  },
  {
   "cell_type": "code",
   "execution_count": null,
   "id": "6ab69296",
   "metadata": {},
   "outputs": [],
   "source": [
    "product_df.show(3)"
   ]
  },
  {
   "cell_type": "code",
   "execution_count": null,
   "id": "7c0ed624",
   "metadata": {},
   "outputs": [],
   "source": [
    "store_df = spark \\\n",
    "    .read \\\n",
    "    .option(\"header\", True) \\\n",
    "    .csv(store_data_folder).show(3)"
   ]
  },
  {
   "cell_type": "code",
   "execution_count": null,
   "id": "edfd6965",
   "metadata": {},
   "outputs": [],
   "source": [
    "store_df.show(3)"
   ]
  },
  {
   "cell_type": "code",
   "execution_count": null,
   "id": "bb5c4045",
   "metadata": {},
   "outputs": [],
   "source": [
    "transaction_df = spark \\\n",
    "    .read \\\n",
    "    .option(\"header\", True) \\\n",
    "    .csv(transaction_data_folder)"
   ]
  },
  {
   "cell_type": "code",
   "execution_count": null,
   "id": "baba2b90",
   "metadata": {},
   "outputs": [],
   "source": [
    "transaction_df.show(3)"
   ]
  },
  {
   "cell_type": "code",
   "execution_count": null,
   "id": "1fa428a3",
   "metadata": {},
   "outputs": [],
   "source": [
    "product_df.createOrReplaceTempView(\"products\")\n",
    "transaction_df.createOrReplaceTempView(\"transactions\")"
   ]
  },
  {
   "cell_type": "code",
   "execution_count": null,
   "id": "994ae435",
   "metadata": {},
   "outputs": [],
   "source": [
    "df = spark.sql(\"\"\"\n",
    "    select\n",
    "        products.upc\n",
    "        , min(price)\n",
    "        , max(price)\n",
    "        , description\n",
    "        , category\n",
    "        \n",
    "    from transactions\n",
    "    join products\n",
    "    on\n",
    "        transactions.upc = products.upc\n",
    "    group by 1, 4, 5\n",
    "\"\"\")"
   ]
  },
  {
   "cell_type": "code",
   "execution_count": null,
   "id": "0fe7a3c3",
   "metadata": {},
   "outputs": [],
   "source": [
    "df.show(3)"
   ]
  },
  {
   "cell_type": "code",
   "execution_count": null,
   "id": "68fbc65c",
   "metadata": {},
   "outputs": [],
   "source": [
    "df2 = spark.sql(\"\"\"\n",
    "    select\n",
    "        upc\n",
    "        , product_size\n",
    "        , case\n",
    "            when contains(product_size, 'OZ') then 'yes'\n",
    "        end as is_oz\n",
    "    from products\n",
    "\"\"\")"
   ]
  },
  {
   "cell_type": "code",
   "execution_count": null,
   "id": "0574952c",
   "metadata": {},
   "outputs": [],
   "source": [
    "df2.show(3)"
   ]
  }
 ],
 "metadata": {
  "kernelspec": {
   "display_name": "Python 3 (ipykernel)",
   "language": "python",
   "name": "python3"
  },
  "language_info": {
   "codemirror_mode": {
    "name": "ipython",
    "version": 3
   },
   "file_extension": ".py",
   "mimetype": "text/x-python",
   "name": "python",
   "nbconvert_exporter": "python",
   "pygments_lexer": "ipython3",
   "version": "3.10.6"
  }
 },
 "nbformat": 4,
 "nbformat_minor": 5
}
